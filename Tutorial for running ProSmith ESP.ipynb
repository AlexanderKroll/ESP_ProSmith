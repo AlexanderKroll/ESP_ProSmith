{
 "cells": [
  {
   "cell_type": "code",
   "execution_count": 1,
   "metadata": {},
   "outputs": [
    {
     "name": "stderr",
     "output_type": "stream",
     "text": [
      "/Users/kroll/miniconda3/envs/ESP_ProSmith/lib/python3.9/site-packages/torch/_utils.py:776: UserWarning: TypedStorage is deprecated. It will be removed in the future and UntypedStorage will be the only storage class. This should only matter to you if you are using storages directly.  To access UntypedStorage directly, use tensor.untyped_storage() instead of tensor.storage()\n",
      "  return self.fget.__get__(instance, owner)()\n"
     ]
    }
   ],
   "source": [
    "import sys\n",
    "sys.path.insert(0, 'code')\n",
    "from prediction import ESP_predicton"
   ]
  },
  {
   "cell_type": "markdown",
   "metadata": {},
   "source": [
    "### The following code is an example of how to use the ESP prediction function with three different enzyme-small molecule pairs as input:\n",
    "\n",
    "The first metabolite is paired with the first enzyme, the second metabolite is paired with the second enzyme, and so on ..."
   ]
  },
  {
   "cell_type": "code",
   "execution_count": 2,
   "metadata": {},
   "outputs": [
    {
     "name": "stdout",
     "output_type": "stream",
     "text": [
      "Step 1/2: Preprocessing: Calculating input embeddings.\n",
      ".....1(a) Calculating protein embeddings\n"
     ]
    },
    {
     "name": "stderr",
     "output_type": "stream",
     "text": [
      "/Users/kroll/Projects/ESP_ProSmith/code/prediction.py:59: FutureWarning: ChainedAssignmentError: behaviour will change in pandas 3.0!\n",
      "You are setting values through chained assignment. Currently this works in certain cases, but when using Copy-on-Write (which will become the default behaviour in pandas 3.0) this will never work to update the original DataFrame or Series, because the intermediate object on which we are setting values will behave as a copy.\n",
      "A typical example is when you are setting values in a column of a DataFrame, like:\n",
      "\n",
      "df[\"col\"][row_indexer] = value\n",
      "\n",
      "Use `df.loc[row_indexer, \"col\"] = values` instead, to perform the assignment in a single step and ensure this keeps updating the original `df`.\n",
      "\n",
      "See the caveats in the documentation: https://pandas.pydata.org/pandas-docs/stable/user_guide/indexing.html#returning-a-view-versus-a-copy\n",
      "\n",
      "  df[\"valid\"].loc[pd.isnull(df[\"SMILES\"])] = False\n",
      "/Users/kroll/Projects/ESP_ProSmith/code/prediction.py:59: SettingWithCopyWarning: \n",
      "A value is trying to be set on a copy of a slice from a DataFrame\n",
      "\n",
      "See the caveats in the documentation: https://pandas.pydata.org/pandas-docs/stable/user_guide/indexing.html#returning-a-view-versus-a-copy\n",
      "  df[\"valid\"].loc[pd.isnull(df[\"SMILES\"])] = False\n"
     ]
    },
    {
     "name": "stdout",
     "output_type": "stream",
     "text": [
      ".....1(b) Calculating SMILES embeddings\n",
      "Step 2/2: Making predictions for ESP.\n"
     ]
    },
    {
     "name": "stderr",
     "output_type": "stream",
     "text": [
      "/Users/kroll/miniconda3/envs/ESP_ProSmith/lib/python3.9/site-packages/xgboost/core.py:160: UserWarning: [14:28:39] WARNING: /Users/runner/work/xgboost/xgboost/src/gbm/gbtree.cc:360: \n",
      "  Loading from a raw memory buffer (like pickle in Python, RDS in R) on a CPU-only\n",
      "  machine. Consider using `save_model/load_model` instead. See:\n",
      "\n",
      "    https://xgboost.readthedocs.io/en/latest/tutorials/saving_model.html\n",
      "\n",
      "  for more details about differences between saving model and serializing.  Changing `tree_method` to `hist`.\n",
      "  warnings.warn(smsg, UserWarning)\n",
      "/Users/kroll/miniconda3/envs/ESP_ProSmith/lib/python3.9/site-packages/xgboost/core.py:160: UserWarning: [14:28:39] WARNING: /Users/runner/work/xgboost/xgboost/src/gbm/gbtree.cc:385: Changing updater from `grow_gpu_hist` to `grow_quantile_histmaker`.\n",
      "  warnings.warn(smsg, UserWarning)\n"
     ]
    },
    {
     "data": {
      "text/html": [
       "<div>\n",
       "<style scoped>\n",
       "    .dataframe tbody tr th:only-of-type {\n",
       "        vertical-align: middle;\n",
       "    }\n",
       "\n",
       "    .dataframe tbody tr th {\n",
       "        vertical-align: top;\n",
       "    }\n",
       "\n",
       "    .dataframe thead th {\n",
       "        text-align: right;\n",
       "    }\n",
       "</style>\n",
       "<table border=\"1\" class=\"dataframe\">\n",
       "  <thead>\n",
       "    <tr style=\"text-align: right;\">\n",
       "      <th></th>\n",
       "      <th>Metabolite</th>\n",
       "      <th>Protein</th>\n",
       "      <th>valid input</th>\n",
       "      <th>Prediction score</th>\n",
       "    </tr>\n",
       "  </thead>\n",
       "  <tbody>\n",
       "    <tr>\n",
       "      <th>0</th>\n",
       "      <td>InChI=1S/C6H10O2/c1-3-4-6(8)5(2)7/h3-4H2,1-2H3</td>\n",
       "      <td>MELFLAGRRVLVTGAGKGIGR</td>\n",
       "      <td>True</td>\n",
       "      <td>0.12</td>\n",
       "    </tr>\n",
       "    <tr>\n",
       "      <th>1</th>\n",
       "      <td>InChI=1S/C6H12O2/c1-3-4-6(8)5(2)7/h6,8H,3-4H2,...</td>\n",
       "      <td>MNYRYPPRYGPEWGSGGIYG</td>\n",
       "      <td>True</td>\n",
       "      <td>0.02</td>\n",
       "    </tr>\n",
       "    <tr>\n",
       "      <th>2</th>\n",
       "      <td>InChI=1S/H4O7P2/c1-8(2,3)7-9(4,5)6/h(H2,1,2,3)...</td>\n",
       "      <td>MTEAMKITLSTQPADARWGDK</td>\n",
       "      <td>True</td>\n",
       "      <td>0.57</td>\n",
       "    </tr>\n",
       "  </tbody>\n",
       "</table>\n",
       "</div>"
      ],
      "text/plain": [
       "                                          Metabolite                Protein  \\\n",
       "0     InChI=1S/C6H10O2/c1-3-4-6(8)5(2)7/h3-4H2,1-2H3  MELFLAGRRVLVTGAGKGIGR   \n",
       "1  InChI=1S/C6H12O2/c1-3-4-6(8)5(2)7/h6,8H,3-4H2,...   MNYRYPPRYGPEWGSGGIYG   \n",
       "2  InChI=1S/H4O7P2/c1-8(2,3)7-9(4,5)6/h(H2,1,2,3)...  MTEAMKITLSTQPADARWGDK   \n",
       "\n",
       "   valid input  Prediction score  \n",
       "0         True              0.12  \n",
       "1         True              0.02  \n",
       "2         True              0.57  "
      ]
     },
     "execution_count": 2,
     "metadata": {},
     "output_type": "execute_result"
    }
   ],
   "source": [
    "df = ESP_predicton(metabolite_list = [\"InChI=1S/C6H10O2/c1-3-4-6(8)5(2)7/h3-4H2,1-2H3\",\n",
    "                                      \"InChI=1S/C6H12O2/c1-3-4-6(8)5(2)7/h6,8H,3-4H2,1-2H3\",\n",
    "                                      \"InChI=1S/H4O7P2/c1-8(2,3)7-9(4,5)6/h(H2,1,2,3)(H2,4,5,6)/p-3\"],\n",
    "                   enzyme_list = [\"MELFLAGRRVLVTGAGKGIGR\", \"MNYRYPPRYGPEWGSGGIYG\", \"MTEAMKITLSTQPADARWGDK\"])\n",
    "df"
   ]
  }
 ],
 "metadata": {
  "kernelspec": {
   "display_name": "ESP_ProSmith",
   "language": "python",
   "name": "python3"
  },
  "language_info": {
   "codemirror_mode": {
    "name": "ipython",
    "version": 3
   },
   "file_extension": ".py",
   "mimetype": "text/x-python",
   "name": "python",
   "nbconvert_exporter": "python",
   "pygments_lexer": "ipython3",
   "version": "3.9.19"
  }
 },
 "nbformat": 4,
 "nbformat_minor": 2
}
